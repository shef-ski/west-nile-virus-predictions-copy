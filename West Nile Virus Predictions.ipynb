{
 "cells": [
  {
   "cell_type": "markdown",
   "metadata": {},
   "source": [
    "### Imports"
   ]
  },
  {
   "cell_type": "code",
   "execution_count": 1,
   "metadata": {},
   "outputs": [],
   "source": [
    "import pandas as pd\n",
    "import matplotlib.pyplot as plt\n",
    "%matplotlib inline\n",
    "import seaborn as sns\n",
    "import numpy as np\n",
    "from matplotlib import cm\n",
    "import re\n",
    "from sklearn import preprocessing, tree, ensemble, linear_model, metrics, model_selection, svm\n",
    "import xgboost"
   ]
  },
  {
   "cell_type": "code",
   "execution_count": 2,
   "metadata": {},
   "outputs": [],
   "source": [
    "spray = pd.read_csv('assets/spray.csv')\n",
    "weather = pd.read_csv('assets/weather.csv')\n",
    "test = pd.read_csv('assets/west-nile-test.csv')\n",
    "train = pd.read_csv('assets/west-nile-train.csv')"
   ]
  },
  {
   "cell_type": "code",
   "execution_count": 3,
   "metadata": {
    "collapsed": false,
    "jupyter": {
     "outputs_hidden": false
    }
   },
   "outputs": [],
   "source": [
    "#dates should be in date-time format for easy wrangling\n",
    "for i in [spray, weather, test, train]:\n",
    "    i.Date = pd.to_datetime(i.Date, format='%Y-%m-%d')"
   ]
  },
  {
   "cell_type": "markdown",
   "metadata": {},
   "source": [
    "### Weather Data - cleaning and wrangling"
   ]
  },
  {
   "cell_type": "code",
   "execution_count": 4,
   "metadata": {
    "collapsed": false,
    "jupyter": {
     "outputs_hidden": false
    }
   },
   "outputs": [],
   "source": [
    "#many variables are currently objects because they have things like \"M\" for missing. Must convert.\n",
    "to_numericize = ['Tavg', 'Depart', 'DewPoint', 'WetBulb', 'Heat', 'Cool', 'PrecipTotal',\n",
    "                 'StnPressure', 'SeaLevel', 'ResultSpeed', 'ResultDir', 'AvgSpeed']\n",
    "for col in to_numericize:\n",
    "    weather[col] = pd.to_numeric(weather[col], errors='coerce')"
   ]
  },
  {
   "cell_type": "code",
   "execution_count": 5,
   "metadata": {
    "collapsed": false,
    "jupyter": {
     "outputs_hidden": false
    }
   },
   "outputs": [],
   "source": [
    "#for sunrise times and sunset times to be interpreted properly, converting to hours\n",
    "def twentyfour_hour_to_float(HHMM):\n",
    "    if HHMM == '-':\n",
    "        return np.NaN\n",
    "    else:\n",
    "        hour = float(HHMM[:2])\n",
    "        minute = float(HHMM[2:])\n",
    "        return hour + minute/60\n",
    "weather.Sunrise = weather.Sunrise.apply(twentyfour_hour_to_float)\n",
    "weather.Sunset = weather.Sunset.apply(twentyfour_hour_to_float)\n",
    "\n",
    "#calculate hours in day\n",
    "weather['hours_in_day'] = weather.Sunset - weather.Sunrise"
   ]
  },
  {
   "cell_type": "code",
   "execution_count": 6,
   "metadata": {
    "collapsed": false,
    "jupyter": {
     "outputs_hidden": false
    }
   },
   "outputs": [],
   "source": [
    "#Depth, Water1, and SnowFall are all useless variables (all or almost all Nan).\n",
    "weather.drop(['Depth', 'Water1', 'SnowFall'], axis=1, inplace=True)"
   ]
  },
  {
   "cell_type": "code",
   "execution_count": 7,
   "metadata": {
    "collapsed": false,
    "jupyter": {
     "outputs_hidden": false
    }
   },
   "outputs": [],
   "source": [
    "#functions to combine data from Station 1 and Station 2, where applicable\n",
    "def avg_wind_direction(S1, S2):\n",
    "    if S1 == np.NaN:\n",
    "        avg = float(S2)\n",
    "    elif S2 == np.NaN:\n",
    "        avg = float(S1)\n",
    "    elif np.abs(S1-S2) > 18:\n",
    "        if S1<S2:\n",
    "            S1+=36\n",
    "        else:\n",
    "            S2+=36\n",
    "        avg = (S1+S2)/2.0\n",
    "    else:\n",
    "        avg = (S1+S2)/2.0\n",
    "    if avg >=36:\n",
    "        avg-=36\n",
    "    return avg\n",
    "def combine_conditions(S1, S2):\n",
    "    if S1 == \" \" and S2 == \" \":\n",
    "        return \"\"\n",
    "    elif S1 == \" \" and S2 != \" \":\n",
    "        return S2\n",
    "    elif S1 != \" \" and S2 == \" \":\n",
    "        return S1\n",
    "    else:\n",
    "        S1_list = S1.split(\" \")\n",
    "        S2_list = S2.split(\" \")\n",
    "        return list(set(S1_list + S2_list))\n",
    "def avg_col(S1, S2):\n",
    "    if S1 == np.NaN:\n",
    "        avg = float(S2)\n",
    "    elif S2 == np.NaN:\n",
    "        avg = float(S1)\n",
    "    else: \n",
    "        avg=(S1+S2)/2.0\n",
    "    return avg"
   ]
  },
  {
   "cell_type": "code",
   "execution_count": 8,
   "metadata": {
    "collapsed": false,
    "jupyter": {
     "outputs_hidden": false
    }
   },
   "outputs": [],
   "source": [
    "combined_weather = pd.DataFrame()\n",
    "\n",
    "s1 = weather[weather.Station==1]\n",
    "s2 = weather[weather.Station==1]\n",
    "\n",
    "#columns that only have data for Station 1 or the data are the same.\n",
    "for col in ['Date', 'Depart', 'Sunrise', 'Sunset', 'hours_in_day']:\n",
    "    combined_weather[col] = s1[col].values\n",
    "\n",
    "#application of averaging function\n",
    "for col in ['Tmax', 'Tmin', 'Tavg', 'DewPoint', 'WetBulb', 'Heat', 'Cool', 'StnPressure', 'SeaLevel', 'ResultSpeed', 'AvgSpeed']:\n",
    "    combined_weather[col] = [avg_col(a, b) for a, b in zip(s1[col].values, s2[col].values)]\n",
    "\n",
    "#application of unique functions\n",
    "combined_weather['ResultDir'] = [avg_wind_direction(a, b) for a, b in zip(s1.ResultDir.values, s2.ResultDir.values)]\n",
    "combined_weather['CodeSum'] = [combine_conditions(a, b) for a, b in zip(s1.CodeSum.values, s2.CodeSum.values)]\n",
    "\n",
    "#PrecipTotal for each station is too different -- keeping both\n",
    "combined_weather['PrecipTotal_station1'] = weather.PrecipTotal[weather.Station==1].values\n",
    "combined_weather['PrecipTotal_station2'] = weather.PrecipTotal[weather.Station==2].values"
   ]
  },
  {
   "cell_type": "code",
   "execution_count": 9,
   "metadata": {},
   "outputs": [],
   "source": [
    "#Unable to accurately impute for PrecipTotals and too much missing, so starting by dropping those columns\n",
    "combined_weather.drop(['PrecipTotal_station1', 'PrecipTotal_station2'], axis=1, inplace=True)"
   ]
  },
  {
   "cell_type": "code",
   "execution_count": 10,
   "metadata": {
    "collapsed": false,
    "jupyter": {
     "outputs_hidden": false
    }
   },
   "outputs": [
    {
     "name": "stderr",
     "output_type": "stream",
     "text": [
      "C:\\Users\\Leon\\AppData\\Local\\Temp\\ipykernel_14504\\845995731.py:32: SettingWithCopyWarning: \n",
      "A value is trying to be set on a copy of a slice from a DataFrame\n",
      "\n",
      "See the caveats in the documentation: https://pandas.pydata.org/pandas-docs/stable/user_guide/indexing.html#returning-a-view-versus-a-copy\n",
      "  combined_weather.StnPressure[combined_weather.StnPressure.isnull()] = predicted_StnPressure\n"
     ]
    }
   ],
   "source": [
    "# CHANGES MADE TO THIS CELL\n",
    "\n",
    "#impute missing data for.\n",
    "subset = combined_weather.columns.drop(['WetBulb', 'Date', 'CodeSum'])\n",
    "\n",
    "# Create a mask for rows where 'WetBulb' is null but other necessary data is not missing\n",
    "mask = combined_weather['WetBulb'].isnull() & combined_weather[subset].notna().all(axis=1)\n",
    "df_train = combined_weather.dropna(subset=['WetBulb'] + list(subset))\n",
    "\n",
    "X = df_train.drop(['Date', 'WetBulb', 'CodeSum'], axis=1)\n",
    "y = df_train['WetBulb']\n",
    "\n",
    "# Train the RandomForestRegressor\n",
    "dt_WetBulb = ensemble.RandomForestRegressor(n_estimators=100)\n",
    "dt_WetBulb.fit(X, y)\n",
    "\n",
    "# Filter the DataFrame for prediction using the defined mask\n",
    "df_predict = combined_weather.loc[mask, subset]\n",
    "predicted_WetBulb = dt_WetBulb.predict(df_predict)\n",
    "\n",
    "combined_weather.loc[mask, 'WetBulb'] = predicted_WetBulb\n",
    "\n",
    "#StnPressure\n",
    "X = combined_weather.dropna().drop(['Date', 'StnPressure', 'CodeSum'], axis=1)\n",
    "y = combined_weather.dropna(subset=subset)['StnPressure']\n",
    "\n",
    "xb_StnPressure = xgboost.XGBRegressor()\n",
    "xb_StnPressure.fit(X, y)\n",
    "\n",
    "predicted_StnPressure = xb_StnPressure.predict(combined_weather.drop(['Date', 'StnPressure', 'CodeSum'], axis=1)[combined_weather.StnPressure.isnull()])\n",
    "\n",
    "combined_weather.StnPressure[combined_weather.StnPressure.isnull()] = predicted_StnPressure"
   ]
  },
  {
   "cell_type": "code",
   "execution_count": 11,
   "metadata": {},
   "outputs": [
    {
     "name": "stdout",
     "output_type": "stream",
     "text": [
      "Date            0\n",
      "Depart          0\n",
      "Sunrise         0\n",
      "Sunset          0\n",
      "hours_in_day    0\n",
      "Tmax            0\n",
      "Tmin            0\n",
      "Tavg            0\n",
      "DewPoint        0\n",
      "Heat            0\n",
      "Cool            0\n",
      "StnPressure     0\n",
      "ResultSpeed     0\n",
      "AvgSpeed        0\n",
      "ResultDir       0\n",
      "CodeSum         0\n",
      "dtype: int64\n"
     ]
    }
   ],
   "source": [
    "combined_weather = combined_weather.drop(columns=['WetBulb', 'SeaLevel'])\n",
    "print(combined_weather.isnull().sum())"
   ]
  },
  {
   "cell_type": "code",
   "execution_count": 12,
   "metadata": {},
   "outputs": [
    {
     "data": {
      "text/html": [
       "<div>\n",
       "<style scoped>\n",
       "    .dataframe tbody tr th:only-of-type {\n",
       "        vertical-align: middle;\n",
       "    }\n",
       "\n",
       "    .dataframe tbody tr th {\n",
       "        vertical-align: top;\n",
       "    }\n",
       "\n",
       "    .dataframe thead th {\n",
       "        text-align: right;\n",
       "    }\n",
       "</style>\n",
       "<table border=\"1\" class=\"dataframe\">\n",
       "  <thead>\n",
       "    <tr style=\"text-align: right;\">\n",
       "      <th></th>\n",
       "      <th>Date</th>\n",
       "      <th>Depart</th>\n",
       "      <th>Sunrise</th>\n",
       "      <th>Sunset</th>\n",
       "      <th>hours_in_day</th>\n",
       "      <th>Tmax</th>\n",
       "      <th>Tmin</th>\n",
       "      <th>Tavg</th>\n",
       "      <th>DewPoint</th>\n",
       "      <th>Heat</th>\n",
       "      <th>Cool</th>\n",
       "      <th>StnPressure</th>\n",
       "      <th>ResultSpeed</th>\n",
       "      <th>AvgSpeed</th>\n",
       "      <th>ResultDir</th>\n",
       "      <th>CodeSum</th>\n",
       "    </tr>\n",
       "  </thead>\n",
       "  <tbody>\n",
       "    <tr>\n",
       "      <th>0</th>\n",
       "      <td>2007-05-01</td>\n",
       "      <td>14.0</td>\n",
       "      <td>4.800000</td>\n",
       "      <td>18.816667</td>\n",
       "      <td>14.016667</td>\n",
       "      <td>83.0</td>\n",
       "      <td>50.0</td>\n",
       "      <td>67.0</td>\n",
       "      <td>51.0</td>\n",
       "      <td>0.0</td>\n",
       "      <td>2.0</td>\n",
       "      <td>29.10</td>\n",
       "      <td>1.7</td>\n",
       "      <td>9.2</td>\n",
       "      <td>27.0</td>\n",
       "      <td></td>\n",
       "    </tr>\n",
       "    <tr>\n",
       "      <th>1</th>\n",
       "      <td>2007-05-02</td>\n",
       "      <td>-3.0</td>\n",
       "      <td>4.783333</td>\n",
       "      <td>18.833333</td>\n",
       "      <td>14.050000</td>\n",
       "      <td>59.0</td>\n",
       "      <td>42.0</td>\n",
       "      <td>51.0</td>\n",
       "      <td>42.0</td>\n",
       "      <td>14.0</td>\n",
       "      <td>0.0</td>\n",
       "      <td>29.38</td>\n",
       "      <td>13.0</td>\n",
       "      <td>13.4</td>\n",
       "      <td>4.0</td>\n",
       "      <td>[BR]</td>\n",
       "    </tr>\n",
       "    <tr>\n",
       "      <th>2</th>\n",
       "      <td>2007-05-03</td>\n",
       "      <td>2.0</td>\n",
       "      <td>4.766667</td>\n",
       "      <td>18.850000</td>\n",
       "      <td>14.083333</td>\n",
       "      <td>66.0</td>\n",
       "      <td>46.0</td>\n",
       "      <td>56.0</td>\n",
       "      <td>40.0</td>\n",
       "      <td>9.0</td>\n",
       "      <td>0.0</td>\n",
       "      <td>29.39</td>\n",
       "      <td>11.7</td>\n",
       "      <td>11.9</td>\n",
       "      <td>7.0</td>\n",
       "      <td></td>\n",
       "    </tr>\n",
       "    <tr>\n",
       "      <th>3</th>\n",
       "      <td>2007-05-04</td>\n",
       "      <td>4.0</td>\n",
       "      <td>4.733333</td>\n",
       "      <td>18.866667</td>\n",
       "      <td>14.133333</td>\n",
       "      <td>66.0</td>\n",
       "      <td>49.0</td>\n",
       "      <td>58.0</td>\n",
       "      <td>41.0</td>\n",
       "      <td>7.0</td>\n",
       "      <td>0.0</td>\n",
       "      <td>29.31</td>\n",
       "      <td>10.4</td>\n",
       "      <td>10.8</td>\n",
       "      <td>8.0</td>\n",
       "      <td>[RA]</td>\n",
       "    </tr>\n",
       "    <tr>\n",
       "      <th>4</th>\n",
       "      <td>2007-05-05</td>\n",
       "      <td>5.0</td>\n",
       "      <td>4.716667</td>\n",
       "      <td>18.883333</td>\n",
       "      <td>14.166667</td>\n",
       "      <td>66.0</td>\n",
       "      <td>53.0</td>\n",
       "      <td>60.0</td>\n",
       "      <td>38.0</td>\n",
       "      <td>5.0</td>\n",
       "      <td>0.0</td>\n",
       "      <td>29.40</td>\n",
       "      <td>11.7</td>\n",
       "      <td>12.0</td>\n",
       "      <td>7.0</td>\n",
       "      <td></td>\n",
       "    </tr>\n",
       "    <tr>\n",
       "      <th>...</th>\n",
       "      <td>...</td>\n",
       "      <td>...</td>\n",
       "      <td>...</td>\n",
       "      <td>...</td>\n",
       "      <td>...</td>\n",
       "      <td>...</td>\n",
       "      <td>...</td>\n",
       "      <td>...</td>\n",
       "      <td>...</td>\n",
       "      <td>...</td>\n",
       "      <td>...</td>\n",
       "      <td>...</td>\n",
       "      <td>...</td>\n",
       "      <td>...</td>\n",
       "      <td>...</td>\n",
       "      <td>...</td>\n",
       "    </tr>\n",
       "    <tr>\n",
       "      <th>1467</th>\n",
       "      <td>2014-10-27</td>\n",
       "      <td>16.0</td>\n",
       "      <td>6.300000</td>\n",
       "      <td>16.883333</td>\n",
       "      <td>10.583333</td>\n",
       "      <td>77.0</td>\n",
       "      <td>51.0</td>\n",
       "      <td>64.0</td>\n",
       "      <td>51.0</td>\n",
       "      <td>1.0</td>\n",
       "      <td>0.0</td>\n",
       "      <td>28.92</td>\n",
       "      <td>12.0</td>\n",
       "      <td>12.9</td>\n",
       "      <td>19.0</td>\n",
       "      <td></td>\n",
       "    </tr>\n",
       "    <tr>\n",
       "      <th>1468</th>\n",
       "      <td>2014-10-28</td>\n",
       "      <td>10.0</td>\n",
       "      <td>6.316667</td>\n",
       "      <td>16.850000</td>\n",
       "      <td>10.533333</td>\n",
       "      <td>68.0</td>\n",
       "      <td>45.0</td>\n",
       "      <td>57.0</td>\n",
       "      <td>38.0</td>\n",
       "      <td>8.0</td>\n",
       "      <td>0.0</td>\n",
       "      <td>29.15</td>\n",
       "      <td>14.8</td>\n",
       "      <td>15.6</td>\n",
       "      <td>26.0</td>\n",
       "      <td></td>\n",
       "    </tr>\n",
       "    <tr>\n",
       "      <th>1469</th>\n",
       "      <td>2014-10-29</td>\n",
       "      <td>-4.0</td>\n",
       "      <td>6.333333</td>\n",
       "      <td>16.833333</td>\n",
       "      <td>10.500000</td>\n",
       "      <td>49.0</td>\n",
       "      <td>36.0</td>\n",
       "      <td>43.0</td>\n",
       "      <td>32.0</td>\n",
       "      <td>22.0</td>\n",
       "      <td>0.0</td>\n",
       "      <td>29.36</td>\n",
       "      <td>9.5</td>\n",
       "      <td>9.9</td>\n",
       "      <td>29.0</td>\n",
       "      <td></td>\n",
       "    </tr>\n",
       "    <tr>\n",
       "      <th>1470</th>\n",
       "      <td>2014-10-30</td>\n",
       "      <td>-4.0</td>\n",
       "      <td>6.366667</td>\n",
       "      <td>16.816667</td>\n",
       "      <td>10.450000</td>\n",
       "      <td>51.0</td>\n",
       "      <td>32.0</td>\n",
       "      <td>42.0</td>\n",
       "      <td>34.0</td>\n",
       "      <td>23.0</td>\n",
       "      <td>0.0</td>\n",
       "      <td>29.34</td>\n",
       "      <td>5.1</td>\n",
       "      <td>5.5</td>\n",
       "      <td>24.0</td>\n",
       "      <td></td>\n",
       "    </tr>\n",
       "    <tr>\n",
       "      <th>1471</th>\n",
       "      <td>2014-10-31</td>\n",
       "      <td>-6.0</td>\n",
       "      <td>6.383333</td>\n",
       "      <td>16.783333</td>\n",
       "      <td>10.400000</td>\n",
       "      <td>47.0</td>\n",
       "      <td>33.0</td>\n",
       "      <td>40.0</td>\n",
       "      <td>25.0</td>\n",
       "      <td>25.0</td>\n",
       "      <td>0.0</td>\n",
       "      <td>29.49</td>\n",
       "      <td>22.6</td>\n",
       "      <td>22.9</td>\n",
       "      <td>34.0</td>\n",
       "      <td>[SN, RA]</td>\n",
       "    </tr>\n",
       "  </tbody>\n",
       "</table>\n",
       "<p>1472 rows × 16 columns</p>\n",
       "</div>"
      ],
      "text/plain": [
       "           Date  Depart   Sunrise     Sunset  hours_in_day  Tmax  Tmin  Tavg  \\\n",
       "0    2007-05-01    14.0  4.800000  18.816667     14.016667  83.0  50.0  67.0   \n",
       "1    2007-05-02    -3.0  4.783333  18.833333     14.050000  59.0  42.0  51.0   \n",
       "2    2007-05-03     2.0  4.766667  18.850000     14.083333  66.0  46.0  56.0   \n",
       "3    2007-05-04     4.0  4.733333  18.866667     14.133333  66.0  49.0  58.0   \n",
       "4    2007-05-05     5.0  4.716667  18.883333     14.166667  66.0  53.0  60.0   \n",
       "...         ...     ...       ...        ...           ...   ...   ...   ...   \n",
       "1467 2014-10-27    16.0  6.300000  16.883333     10.583333  77.0  51.0  64.0   \n",
       "1468 2014-10-28    10.0  6.316667  16.850000     10.533333  68.0  45.0  57.0   \n",
       "1469 2014-10-29    -4.0  6.333333  16.833333     10.500000  49.0  36.0  43.0   \n",
       "1470 2014-10-30    -4.0  6.366667  16.816667     10.450000  51.0  32.0  42.0   \n",
       "1471 2014-10-31    -6.0  6.383333  16.783333     10.400000  47.0  33.0  40.0   \n",
       "\n",
       "      DewPoint  Heat  Cool  StnPressure  ResultSpeed  AvgSpeed  ResultDir  \\\n",
       "0         51.0   0.0   2.0        29.10          1.7       9.2       27.0   \n",
       "1         42.0  14.0   0.0        29.38         13.0      13.4        4.0   \n",
       "2         40.0   9.0   0.0        29.39         11.7      11.9        7.0   \n",
       "3         41.0   7.0   0.0        29.31         10.4      10.8        8.0   \n",
       "4         38.0   5.0   0.0        29.40         11.7      12.0        7.0   \n",
       "...        ...   ...   ...          ...          ...       ...        ...   \n",
       "1467      51.0   1.0   0.0        28.92         12.0      12.9       19.0   \n",
       "1468      38.0   8.0   0.0        29.15         14.8      15.6       26.0   \n",
       "1469      32.0  22.0   0.0        29.36          9.5       9.9       29.0   \n",
       "1470      34.0  23.0   0.0        29.34          5.1       5.5       24.0   \n",
       "1471      25.0  25.0   0.0        29.49         22.6      22.9       34.0   \n",
       "\n",
       "       CodeSum  \n",
       "0               \n",
       "1         [BR]  \n",
       "2               \n",
       "3         [RA]  \n",
       "4               \n",
       "...        ...  \n",
       "1467            \n",
       "1468            \n",
       "1469            \n",
       "1470            \n",
       "1471  [SN, RA]  \n",
       "\n",
       "[1472 rows x 16 columns]"
      ]
     },
     "execution_count": 12,
     "metadata": {},
     "output_type": "execute_result"
    }
   ],
   "source": [
    "combined_weather"
   ]
  },
  {
   "cell_type": "markdown",
   "metadata": {},
   "source": [
    "### Train/Test Data - cleaning and wrangling"
   ]
  },
  {
   "cell_type": "code",
   "execution_count": 13,
   "metadata": {
    "collapsed": false,
    "jupyter": {
     "outputs_hidden": false
    }
   },
   "outputs": [],
   "source": [
    "#pull out zip codes from address\n",
    "def find_zip(address):\n",
    "    if re.search('(?<=IL )[0-9]*', address):\n",
    "        return re.search('(?<=IL )[0-9]*', address).group(0)\n",
    "train['zip_code'] = train.Address.apply(find_zip)"
   ]
  },
  {
   "cell_type": "code",
   "execution_count": 14,
   "metadata": {
    "collapsed": false,
    "jupyter": {
     "outputs_hidden": false
    }
   },
   "outputs": [],
   "source": [
    "# Address, Street, and AddressNumberAndStreet give essentially the same information as Trap, so they can be deleted\n",
    "train.drop(['Address', 'Street', 'AddressNumberAndStreet'], axis=1, inplace=True)"
   ]
  },
  {
   "cell_type": "code",
   "execution_count": 15,
   "metadata": {
    "collapsed": false,
    "jupyter": {
     "outputs_hidden": false
    }
   },
   "outputs": [
    {
     "name": "stderr",
     "output_type": "stream",
     "text": [
      "C:\\Users\\Leon\\AppData\\Local\\Temp\\ipykernel_14504\\549682876.py:9: SettingWithCopyWarning: \n",
      "A value is trying to be set on a copy of a slice from a DataFrame\n",
      "\n",
      "See the caveats in the documentation: https://pandas.pydata.org/pandas-docs/stable/user_guide/indexing.html#returning-a-view-versus-a-copy\n",
      "  train.zip_code[train.zip_code.isnull()] = predicted_zip\n"
     ]
    }
   ],
   "source": [
    "#impute missing zips\n",
    "X = train.dropna()[['Latitude', 'Longitude']]\n",
    "y = train.dropna()['zip_code']\n",
    "\n",
    "dtree_forzip = tree.DecisionTreeClassifier()\n",
    "dtree_forzip.fit(X, y)\n",
    "predicted_zip = dtree_forzip.predict(train[['Latitude', 'Longitude']][train.zip_code.isnull()])\n",
    "\n",
    "train.zip_code[train.zip_code.isnull()] = predicted_zip"
   ]
  },
  {
   "cell_type": "code",
   "execution_count": 16,
   "metadata": {
    "collapsed": false,
    "jupyter": {
     "outputs_hidden": false
    }
   },
   "outputs": [],
   "source": [
    "# create columns for day of year, month, day of week:\n",
    "train['day_of_year'] = train.Date.dt.dayofyear\n",
    "train['month'] = train.Date.dt.month\n",
    "train['day_of week'] = train.Date.dt.dayofweek\n",
    "train['year'] = train.Date.dt.year"
   ]
  },
  {
   "cell_type": "code",
   "execution_count": 17,
   "metadata": {
    "collapsed": false,
    "jupyter": {
     "outputs_hidden": false
    },
    "scrolled": true
   },
   "outputs": [
    {
     "name": "stderr",
     "output_type": "stream",
     "text": [
      "C:\\Users\\Leon\\AppData\\Local\\Temp\\ipykernel_14504\\3147019951.py:7: SettingWithCopyWarning: \n",
      "A value is trying to be set on a copy of a slice from a DataFrame\n",
      "\n",
      "See the caveats in the documentation: https://pandas.pydata.org/pandas-docs/stable/user_guide/indexing.html#returning-a-view-versus-a-copy\n",
      "  test.zip_code[test.zip_code.isnull()] = predicted_zip\n"
     ]
    }
   ],
   "source": [
    "#repeat all with test data\n",
    "test['zip_code'] = test.Address.apply(find_zip)\n",
    "test.drop(['Address', 'Street', 'AddressNumberAndStreet'], axis=1, inplace=True)\n",
    "\n",
    "predicted_zip = dtree_forzip.predict(test[['Latitude', 'Longitude']][test.zip_code.isnull()])\n",
    "\n",
    "test.zip_code[test.zip_code.isnull()] = predicted_zip\n",
    "test['day_of_year'] = test.Date.dt.dayofyear\n",
    "test['month'] = test.Date.dt.month\n",
    "test['day_of week'] = test.Date.dt.dayofweek\n",
    "test['year'] = test.Date.dt.year"
   ]
  },
  {
   "cell_type": "code",
   "execution_count": 18,
   "metadata": {
    "collapsed": false,
    "jupyter": {
     "outputs_hidden": false
    }
   },
   "outputs": [],
   "source": [
    "# CHANGES MADE TO THIS CELL\n",
    "\n",
    "# putting various weights to the traps\n",
    "num_by_trap = train[['Trap', 'NumMosquitos', 'WnvPresent']].groupby('Trap').agg('sum')\n",
    "\n",
    "# Calculate percentages\n",
    "num_by_trap['trap_percent_of_all_mosquitos'] = num_by_trap['NumMosquitos'] / num_by_trap['NumMosquitos'].sum()\n",
    "num_by_trap['trap_percent_with_wnv'] = num_by_trap['WnvPresent'] / num_by_trap['NumMosquitos']\n",
    "\n",
    "num_by_trap['trap_percent_of_all_mosquitos'] = num_by_trap['NumMosquitos'] / num_by_trap['NumMosquitos'].sum()\n",
    "num_by_trap['trap_percent_with_wnv'] = num_by_trap['WnvPresent'] / num_by_trap['NumMosquitos']\n",
    "num_by_trap.reset_index(inplace=True)  # This line is crucial if 'Trap' is set as the index\n",
    "\n",
    "map_mosq_weight = {t: v for t, v in zip(num_by_trap['Trap'].values, num_by_trap['trap_percent_of_all_mosquitos'].values)}\n",
    "map_wnv_weight = {t: v for t, v in zip(num_by_trap['Trap'].values, num_by_trap['trap_percent_with_wnv'].values)}\n",
    "\n",
    "map_wnv_weight2 = {}\n",
    "for trap in set(train.Trap):\n",
    "    map_wnv_weight2[trap] = sum(train.WnvPresent[train.Trap==trap]/sum(train.Trap==trap))\n",
    "map_wnv_weight2\n",
    "\n",
    "train['trap_percent_of_all_mosquitos'] = train.Trap.map(map_mosq_weight)\n",
    "train['trap_percent_with_wnv'] = train.Trap.map(map_wnv_weight)\n",
    "train['trap_percent_with_wnv2'] = train.Trap.map(map_wnv_weight2)"
   ]
  },
  {
   "cell_type": "code",
   "execution_count": 19,
   "metadata": {},
   "outputs": [],
   "source": [
    "# Repeat on test data\n",
    "test['trap_percent_of_all_mosquitos'] = test.Trap.map(map_mosq_weight).fillna(0)\n",
    "test['trap_percent_with_wnv'] = test.Trap.map(map_wnv_weight).fillna(0)\n",
    "test['trap_percent_with_wnv2'] = test.Trap.map(map_wnv_weight2).fillna(0)"
   ]
  },
  {
   "cell_type": "markdown",
   "metadata": {},
   "source": [
    "### Merge"
   ]
  },
  {
   "cell_type": "code",
   "execution_count": 20,
   "metadata": {
    "collapsed": false,
    "jupyter": {
     "outputs_hidden": false
    }
   },
   "outputs": [],
   "source": [
    "train_w = pd.merge(train, combined_weather, how='left', on='Date')\n",
    "test_w = pd.merge(test, combined_weather, how='left', on='Date')"
   ]
  },
  {
   "cell_type": "markdown",
   "metadata": {},
   "source": [
    "### Preprocessing"
   ]
  },
  {
   "cell_type": "code",
   "execution_count": 21,
   "metadata": {
    "collapsed": false,
    "jupyter": {
     "outputs_hidden": false
    }
   },
   "outputs": [],
   "source": [
    "# Have to pre-process label-encoder on test set because test set has more traps and species.\n",
    "le_trap = preprocessing.LabelEncoder()\n",
    "test_w['Trap_num'] = le_trap.fit_transform(test_w.Trap)\n",
    "\n",
    "# le_species = preprocessing.LabelEncoder()\n",
    "# test_w['Species_num'] = le_species.fit_transform(test_w.Species)\n",
    "\n",
    "le_zip = preprocessing.LabelEncoder()\n",
    "test_w['zip_code_num'] = le_zip.fit_transform(test_w.zip_code)"
   ]
  },
  {
   "cell_type": "code",
   "execution_count": 22,
   "metadata": {
    "collapsed": false,
    "jupyter": {
     "outputs_hidden": false
    }
   },
   "outputs": [],
   "source": [
    "#repeat with Train\n",
    "train_w['Trap_num'] = le_trap.transform(train_w.Trap)\n",
    "\n",
    "# train_w['Species_num'] = le_species.transform(train_w.Species)\n",
    "\n",
    "train_w['zip_code_num'] = le_zip.transform(train_w.zip_code)"
   ]
  },
  {
   "cell_type": "code",
   "execution_count": 23,
   "metadata": {
    "collapsed": false,
    "jupyter": {
     "outputs_hidden": false
    }
   },
   "outputs": [],
   "source": [
    "# MultiLabelBinarizer on Codesum\n",
    "mlb = preprocessing.MultiLabelBinarizer()\n",
    "mlb_mat = mlb.fit_transform(test_w.CodeSum)\n",
    "mlb_df = pd.DataFrame(mlb_mat, columns=mlb.classes_)\n",
    "\n",
    "test_w = pd.concat([test_w, mlb_df], axis=1)"
   ]
  },
  {
   "cell_type": "code",
   "execution_count": 24,
   "metadata": {
    "collapsed": false,
    "jupyter": {
     "outputs_hidden": false
    }
   },
   "outputs": [],
   "source": [
    "# repeat with test\n",
    "mlb = preprocessing.MultiLabelBinarizer()\n",
    "mlb_mat = mlb.fit_transform(train_w.CodeSum)\n",
    "mlb_df = pd.DataFrame(mlb_mat, columns=mlb.classes_)\n",
    "\n",
    "train_w = pd.concat([train_w, mlb_df], axis=1)"
   ]
  },
  {
   "cell_type": "markdown",
   "metadata": {},
   "source": [
    "## Model Selection"
   ]
  },
  {
   "cell_type": "code",
   "execution_count": 25,
   "metadata": {
    "collapsed": false,
    "jupyter": {
     "outputs_hidden": false
    }
   },
   "outputs": [],
   "source": [
    "X = train_w.drop('Date Trap Species CodeSum NumMosquitos WnvPresent zip_code'.split(' '), axis=1)\n",
    "y = train_w.WnvPresent"
   ]
  },
  {
   "cell_type": "code",
   "execution_count": 26,
   "metadata": {},
   "outputs": [],
   "source": [
    "X_train, X_test, y_train, y_test = model_selection.train_test_split(X, y, test_size=.3)"
   ]
  },
  {
   "cell_type": "code",
   "execution_count": 27,
   "metadata": {
    "collapsed": false,
    "jupyter": {
     "outputs_hidden": false
    }
   },
   "outputs": [
    {
     "data": {
      "text/plain": [
       "0.6687966371458585"
      ]
     },
     "execution_count": 27,
     "metadata": {},
     "output_type": "execute_result"
    }
   ],
   "source": [
    "#Decision Tree\n",
    "dtree = tree.DecisionTreeClassifier()\n",
    "dtree.fit(X_train, y_train)\n",
    "predict = dtree.predict_proba(X_test)\n",
    "metrics.roc_auc_score(y_test, predict[:,1])"
   ]
  },
  {
   "cell_type": "code",
   "execution_count": 28,
   "metadata": {
    "collapsed": false,
    "jupyter": {
     "outputs_hidden": false
    }
   },
   "outputs": [
    {
     "data": {
      "text/plain": [
       "0.8250210930027605"
      ]
     },
     "execution_count": 28,
     "metadata": {},
     "output_type": "execute_result"
    }
   ],
   "source": [
    "#Random Forrest\n",
    "clf = ensemble.RandomForestClassifier(n_jobs=-1, n_estimators=100)\n",
    "clf.fit(X_train, y_train)\n",
    "predict = clf.predict_proba(X_test)\n",
    "metrics.roc_auc_score(y_test, predict[:,1])"
   ]
  },
  {
   "cell_type": "code",
   "execution_count": 29,
   "metadata": {
    "collapsed": false,
    "jupyter": {
     "outputs_hidden": false
    }
   },
   "outputs": [
    {
     "data": {
      "text/plain": [
       "0.8564153733696377"
      ]
     },
     "execution_count": 29,
     "metadata": {},
     "output_type": "execute_result"
    }
   ],
   "source": [
    "#AdaBoost\n",
    "ada = ensemble.AdaBoostClassifier(n_estimators=100)\n",
    "ada.fit(X_train, y_train)\n",
    "\n",
    "predict = ada.predict_proba(X_test)\n",
    "metrics.roc_auc_score(y_test, predict[:,1])"
   ]
  },
  {
   "cell_type": "code",
   "execution_count": 30,
   "metadata": {
    "collapsed": false,
    "jupyter": {
     "outputs_hidden": false
    }
   },
   "outputs": [
    {
     "data": {
      "text/plain": [
       "0.8391529350748919"
      ]
     },
     "execution_count": 30,
     "metadata": {},
     "output_type": "execute_result"
    }
   ],
   "source": [
    "#XGBoost\n",
    "xgb = xgboost.XGBClassifier(n_estimators=100)\n",
    "xgb.fit(X_train, y_train)\n",
    "\n",
    "predict = xgb.predict_proba(X_test)\n",
    "metrics.roc_auc_score(y_test, predict[:,1])"
   ]
  },
  {
   "cell_type": "code",
   "execution_count": 31,
   "metadata": {
    "collapsed": false,
    "jupyter": {
     "outputs_hidden": false
    }
   },
   "outputs": [
    {
     "data": {
      "text/plain": [
       "0.6687966371458585"
      ]
     },
     "execution_count": 31,
     "metadata": {},
     "output_type": "execute_result"
    }
   ],
   "source": [
    "#Extra Trees\n",
    "et = tree.ExtraTreeClassifier()\n",
    "et.fit(X_train, y_train)\n",
    "predict = dtree.predict_proba(X_test)\n",
    "metrics.roc_auc_score(y_test, predict[:,1])"
   ]
  },
  {
   "cell_type": "code",
   "execution_count": 32,
   "metadata": {
    "collapsed": false,
    "jupyter": {
     "outputs_hidden": false
    }
   },
   "outputs": [
    {
     "data": {
      "text/html": [
       "<div>\n",
       "<style scoped>\n",
       "    .dataframe tbody tr th:only-of-type {\n",
       "        vertical-align: middle;\n",
       "    }\n",
       "\n",
       "    .dataframe tbody tr th {\n",
       "        vertical-align: top;\n",
       "    }\n",
       "\n",
       "    .dataframe thead th {\n",
       "        text-align: right;\n",
       "    }\n",
       "</style>\n",
       "<table border=\"1\" class=\"dataframe\">\n",
       "  <thead>\n",
       "    <tr style=\"text-align: right;\">\n",
       "      <th></th>\n",
       "      <th>0</th>\n",
       "    </tr>\n",
       "  </thead>\n",
       "  <tbody>\n",
       "    <tr>\n",
       "      <th>day_of_year</th>\n",
       "      <td>0.149418</td>\n",
       "    </tr>\n",
       "    <tr>\n",
       "      <th>year</th>\n",
       "      <td>0.084470</td>\n",
       "    </tr>\n",
       "    <tr>\n",
       "      <th>trap_percent_with_wnv2</th>\n",
       "      <td>0.071429</td>\n",
       "    </tr>\n",
       "    <tr>\n",
       "      <th>Tmin</th>\n",
       "      <td>0.045450</td>\n",
       "    </tr>\n",
       "    <tr>\n",
       "      <th>ResultSpeed</th>\n",
       "      <td>0.043893</td>\n",
       "    </tr>\n",
       "    <tr>\n",
       "      <th>DewPoint</th>\n",
       "      <td>0.042555</td>\n",
       "    </tr>\n",
       "    <tr>\n",
       "      <th>day_of week</th>\n",
       "      <td>0.037269</td>\n",
       "    </tr>\n",
       "    <tr>\n",
       "      <th>Longitude</th>\n",
       "      <td>0.036934</td>\n",
       "    </tr>\n",
       "    <tr>\n",
       "      <th>ResultDir</th>\n",
       "      <td>0.033673</td>\n",
       "    </tr>\n",
       "    <tr>\n",
       "      <th>Depart</th>\n",
       "      <td>0.031862</td>\n",
       "    </tr>\n",
       "    <tr>\n",
       "      <th>RA</th>\n",
       "      <td>0.031835</td>\n",
       "    </tr>\n",
       "    <tr>\n",
       "      <th>Tavg</th>\n",
       "      <td>0.031431</td>\n",
       "    </tr>\n",
       "    <tr>\n",
       "      <th>Latitude</th>\n",
       "      <td>0.030628</td>\n",
       "    </tr>\n",
       "    <tr>\n",
       "      <th>Block</th>\n",
       "      <td>0.030331</td>\n",
       "    </tr>\n",
       "    <tr>\n",
       "      <th>HZ</th>\n",
       "      <td>0.030099</td>\n",
       "    </tr>\n",
       "    <tr>\n",
       "      <th>Tmax</th>\n",
       "      <td>0.029161</td>\n",
       "    </tr>\n",
       "    <tr>\n",
       "      <th>trap_percent_of_all_mosquitos</th>\n",
       "      <td>0.028320</td>\n",
       "    </tr>\n",
       "    <tr>\n",
       "      <th>zip_code_num</th>\n",
       "      <td>0.027880</td>\n",
       "    </tr>\n",
       "    <tr>\n",
       "      <th>Trap_num</th>\n",
       "      <td>0.027789</td>\n",
       "    </tr>\n",
       "    <tr>\n",
       "      <th>StnPressure</th>\n",
       "      <td>0.027382</td>\n",
       "    </tr>\n",
       "    <tr>\n",
       "      <th>trap_percent_with_wnv</th>\n",
       "      <td>0.025233</td>\n",
       "    </tr>\n",
       "    <tr>\n",
       "      <th>AvgSpeed</th>\n",
       "      <td>0.023158</td>\n",
       "    </tr>\n",
       "    <tr>\n",
       "      <th>TS</th>\n",
       "      <td>0.019363</td>\n",
       "    </tr>\n",
       "    <tr>\n",
       "      <th>BR</th>\n",
       "      <td>0.016238</td>\n",
       "    </tr>\n",
       "    <tr>\n",
       "      <th>AddressAccuracy</th>\n",
       "      <td>0.016112</td>\n",
       "    </tr>\n",
       "    <tr>\n",
       "      <th>TSRA</th>\n",
       "      <td>0.015933</td>\n",
       "    </tr>\n",
       "    <tr>\n",
       "      <th>Sunset</th>\n",
       "      <td>0.009353</td>\n",
       "    </tr>\n",
       "    <tr>\n",
       "      <th>FG</th>\n",
       "      <td>0.002798</td>\n",
       "    </tr>\n",
       "    <tr>\n",
       "      <th>hours_in_day</th>\n",
       "      <td>0.000000</td>\n",
       "    </tr>\n",
       "    <tr>\n",
       "      <th>month</th>\n",
       "      <td>0.000000</td>\n",
       "    </tr>\n",
       "    <tr>\n",
       "      <th>DZ</th>\n",
       "      <td>0.000000</td>\n",
       "    </tr>\n",
       "    <tr>\n",
       "      <th>Cool</th>\n",
       "      <td>0.000000</td>\n",
       "    </tr>\n",
       "    <tr>\n",
       "      <th>Heat</th>\n",
       "      <td>0.000000</td>\n",
       "    </tr>\n",
       "    <tr>\n",
       "      <th>Sunrise</th>\n",
       "      <td>0.000000</td>\n",
       "    </tr>\n",
       "    <tr>\n",
       "      <th>VCTS</th>\n",
       "      <td>0.000000</td>\n",
       "    </tr>\n",
       "  </tbody>\n",
       "</table>\n",
       "</div>"
      ],
      "text/plain": [
       "                                      0\n",
       "day_of_year                    0.149418\n",
       "year                           0.084470\n",
       "trap_percent_with_wnv2         0.071429\n",
       "Tmin                           0.045450\n",
       "ResultSpeed                    0.043893\n",
       "DewPoint                       0.042555\n",
       "day_of week                    0.037269\n",
       "Longitude                      0.036934\n",
       "ResultDir                      0.033673\n",
       "Depart                         0.031862\n",
       "RA                             0.031835\n",
       "Tavg                           0.031431\n",
       "Latitude                       0.030628\n",
       "Block                          0.030331\n",
       "HZ                             0.030099\n",
       "Tmax                           0.029161\n",
       "trap_percent_of_all_mosquitos  0.028320\n",
       "zip_code_num                   0.027880\n",
       "Trap_num                       0.027789\n",
       "StnPressure                    0.027382\n",
       "trap_percent_with_wnv          0.025233\n",
       "AvgSpeed                       0.023158\n",
       "TS                             0.019363\n",
       "BR                             0.016238\n",
       "AddressAccuracy                0.016112\n",
       "TSRA                           0.015933\n",
       "Sunset                         0.009353\n",
       "FG                             0.002798\n",
       "hours_in_day                   0.000000\n",
       "month                          0.000000\n",
       "DZ                             0.000000\n",
       "Cool                           0.000000\n",
       "Heat                           0.000000\n",
       "Sunrise                        0.000000\n",
       "VCTS                           0.000000"
      ]
     },
     "execution_count": 32,
     "metadata": {},
     "output_type": "execute_result"
    }
   ],
   "source": [
    "pd.DataFrame(xgb.feature_importances_, index=X.columns).sort_values(by=0, ascending=False)"
   ]
  },
  {
   "cell_type": "code",
   "execution_count": 33,
   "metadata": {
    "collapsed": false,
    "jupyter": {
     "outputs_hidden": false
    }
   },
   "outputs": [
    {
     "name": "stdout",
     "output_type": "stream",
     "text": [
      "clf 0.7908915220869013 +/- 0.019152545142483466\n",
      "ada 0.8466971519256804 +/- 0.010278771410649147\n",
      "xgb 0.8276388506674796 +/- 0.008188527617091119\n",
      "et 0.6765129775225205 +/- 0.02633784099526951\n"
     ]
    }
   ],
   "source": [
    "# CHANGES MADE TO THIS CELL\n",
    "\n",
    "#Cross-validated scores\n",
    "cv = model_selection.StratifiedKFold(shuffle=True, n_splits=5)\n",
    "for model, name in zip([clf, ada, xgb, et], ['clf', 'ada', 'xgb', 'et']):\n",
    "    score = model_selection.cross_val_score(model, X, y, cv=cv, scoring='roc_auc')\n",
    "    print (name, score.mean(), '+/-', score.std())"
   ]
  },
  {
   "cell_type": "code",
   "execution_count": 34,
   "metadata": {
    "collapsed": false,
    "jupyter": {
     "outputs_hidden": false
    }
   },
   "outputs": [
    {
     "name": "stdout",
     "output_type": "stream",
     "text": [
      "score: 0.84520370742872 +/- 0.022329436745452264\n"
     ]
    }
   ],
   "source": [
    "# CHANGES MADE TO THIS CELL\n",
    "\n",
    "#Grid-Search to find best parameters\n",
    "cv = model_selection.StratifiedKFold(shuffle=True, n_splits=5)\n",
    "xg_best = model_selection.GridSearchCV(xgboost.XGBClassifier(), param_grid={\n",
    "        'max_depth':[3,4,5,6, 7],\n",
    "        'learning_rate':[.04, .06, .08, .1, .12, .14, .16],\n",
    "    },scoring='roc_auc', cv=cv)\n",
    "xg_best.fit(X, y).best_params_\n",
    "\n",
    "# cv = model_selection.StratifiedKFold(shuffle=True, n_splits=5)\n",
    "xg_best = xgboost.XGBRegressor(learning_rate=0.14, max_depth=3)\n",
    "score = model_selection.cross_val_score(xg_best, X, y, cv=cv, scoring='roc_auc')\n",
    "print ('score:',score.mean(),\"+/-\",score.std())"
   ]
  },
  {
   "cell_type": "markdown",
   "metadata": {
    "jupyter": {
     "outputs_hidden": false
    }
   },
   "source": [
    "Didn't perform any better, so we will keep with the simple model. "
   ]
  },
  {
   "cell_type": "code",
   "execution_count": 35,
   "metadata": {
    "collapsed": false,
    "jupyter": {
     "outputs_hidden": false
    },
    "scrolled": true
   },
   "outputs": [
    {
     "data": {
      "text/plain": [
       "0.8282394185814386"
      ]
     },
     "execution_count": 35,
     "metadata": {},
     "output_type": "execute_result"
    }
   ],
   "source": [
    "cv = model_selection.StratifiedKFold(shuffle=True, n_splits=5)\n",
    "predict = model_selection.cross_val_predict(xgboost.XGBClassifier(), X, y, cv=cv, method='predict_proba')\n",
    "predictions = model_selection.cross_val_predict(xgboost.XGBClassifier(), X, y, cv=cv)\n",
    "metrics.roc_auc_score(y, predict[:,1])"
   ]
  },
  {
   "cell_type": "code",
   "execution_count": 36,
   "metadata": {
    "collapsed": false,
    "jupyter": {
     "outputs_hidden": false
    }
   },
   "outputs": [
    {
     "name": "stdout",
     "output_type": "stream",
     "text": [
      "AUC: 0.8296557740321464\n"
     ]
    },
    {
     "data": {
      "text/plain": [
       "<matplotlib.legend.Legend at 0x18388562c10>"
      ]
     },
     "execution_count": 36,
     "metadata": {},
     "output_type": "execute_result"
    },
    {
     "data": {
      "image/png": "[encoded data removed]",
      "text/plain": [
       "<Figure size 640x480 with 1 Axes>"
      ]
     },
     "metadata": {},
     "output_type": "display_data"
    }
   ],
   "source": [
    "predict = model_selection.cross_val_predict(xgboost.XGBClassifier(), X, y, cv=cv, method='predict_proba')\n",
    "y_score = predict[:,1]\n",
    "fpr, tpr, thresholds = metrics.roc_curve(y, y_score)\n",
    "print ('AUC:', metrics.auc(fpr, tpr))\n",
    "\n",
    "plt.plot(fpr, tpr, label='AUC: {:.2}'.format(metrics.auc(fpr, tpr)))\n",
    "plt.xlabel('FPR')\n",
    "plt.ylabel('TPR')\n",
    "plt.title('ROC Curve for Cross-Validated Model')\n",
    "plt.plot([0, 1], [0, 1], 'k--')\n",
    "plt.legend(loc='lower right')"
   ]
  },
  {
   "cell_type": "markdown",
   "metadata": {},
   "source": [
    "## Threshold Manipulation\n",
    "Because the threshold must be set very low to pick up on a significant number of traps with west nile virus, I have set certain True Positive Rate thresholds to explore further."
   ]
  },
  {
   "cell_type": "code",
   "execution_count": 37,
   "metadata": {
    "collapsed": false,
    "jupyter": {
     "outputs_hidden": false
    }
   },
   "outputs": [],
   "source": [
    "# thresholds for TPR of 80%, 85%, 90%, 95%, and 100%\n",
    "thresh = [[th for t, f, th in zip(tpr, fpr, thresholds) if t >= i][0] for i in [.8, .85, .9, .95, 1]]"
   ]
  },
  {
   "cell_type": "code",
   "execution_count": 38,
   "metadata": {
    "collapsed": false,
    "jupyter": {
     "outputs_hidden": false
    }
   },
   "outputs": [
    {
     "name": "stdout",
     "output_type": "stream",
     "text": [
      "threshold: 0.010489859\n",
      "              precision    recall  f1-score   support\n",
      "\n",
      "           0       0.98      0.72      0.83      9955\n",
      "           1       0.14      0.80      0.24       551\n",
      "\n",
      "    accuracy                           0.73     10506\n",
      "   macro avg       0.56      0.76      0.53     10506\n",
      "weighted avg       0.94      0.73      0.80     10506\n",
      "\n",
      "\n",
      "threshold: 0.005285667\n",
      "              precision    recall  f1-score   support\n",
      "\n",
      "           0       0.99      0.65      0.78      9955\n",
      "           1       0.12      0.85      0.21       551\n",
      "\n",
      "    accuracy                           0.66     10506\n",
      "   macro avg       0.55      0.75      0.50     10506\n",
      "weighted avg       0.94      0.66      0.75     10506\n",
      "\n",
      "\n",
      "threshold: 0.0026436888\n",
      "              precision    recall  f1-score   support\n",
      "\n",
      "           0       0.99      0.58      0.73      9955\n",
      "           1       0.11      0.90      0.19       551\n",
      "\n",
      "    accuracy                           0.60     10506\n",
      "   macro avg       0.55      0.74      0.46     10506\n",
      "weighted avg       0.94      0.60      0.70     10506\n",
      "\n",
      "\n",
      "threshold: 0.00077836413\n",
      "              precision    recall  f1-score   support\n",
      "\n",
      "           0       0.99      0.46      0.63      9955\n",
      "           1       0.09      0.95      0.16       551\n",
      "\n",
      "    accuracy                           0.49     10506\n",
      "   macro avg       0.54      0.71      0.40     10506\n",
      "weighted avg       0.95      0.49      0.61     10506\n",
      "\n",
      "\n",
      "threshold: 3.475482e-05\n",
      "              precision    recall  f1-score   support\n",
      "\n",
      "           0       1.00      0.15      0.26      9955\n",
      "           1       0.06      1.00      0.11       551\n",
      "\n",
      "    accuracy                           0.19     10506\n",
      "   macro avg       0.53      0.57      0.19     10506\n",
      "weighted avg       0.95      0.19      0.25     10506\n",
      "\n",
      "\n"
     ]
    }
   ],
   "source": [
    "# CHANGES MADE TO THIS CELL\n",
    "\n",
    "# Print classification reports for each threshold corresponding to the TPRs above.\n",
    "for i in thresh:\n",
    "    predictions = [1 if p >= i else 0 for p in y_score]\n",
    "    print ('threshold:', i)\n",
    "    print (metrics.classification_report(y, predictions))\n",
    "    print ('')"
   ]
  },
  {
   "cell_type": "code",
   "execution_count": 39,
   "metadata": {
    "collapsed": false,
    "jupyter": {
     "outputs_hidden": false
    }
   },
   "outputs": [
    {
     "name": "stdout",
     "output_type": "stream",
     "text": [
      "threshold: 0.010489859\n",
      "[[7196 2759]\n",
      " [ 110  441]]\n",
      "\n",
      "threshold: 0.005285667\n",
      "[[6478 3477]\n",
      " [  82  469]]\n",
      "\n",
      "threshold: 0.0026436888\n",
      "[[5759 4196]\n",
      " [  55  496]]\n",
      "\n",
      "threshold: 0.00077836413\n",
      "[[4610 5345]\n",
      " [  27  524]]\n",
      "\n",
      "threshold: 3.475482e-05\n",
      "[[1462 8493]\n",
      " [   0  551]]\n",
      "\n"
     ]
    }
   ],
   "source": [
    "# CHANGES MADE TO THIS CELL\n",
    "\n",
    "# Print confusion matrix for each threshold corresponding to the TPRs above.\n",
    "for i in thresh:\n",
    "    predictions = [1 if p >= i else 0 for p in y_score]\n",
    "    print ('threshold:', i)\n",
    "    print (metrics.confusion_matrix(y, predictions))\n",
    "    print ('')"
   ]
  },
  {
   "cell_type": "code",
   "execution_count": 40,
   "metadata": {
    "collapsed": false,
    "jupyter": {
     "outputs_hidden": false
    }
   },
   "outputs": [
    {
     "name": "stdout",
     "output_type": "stream",
     "text": [
      "913250.0\n",
      "820000.0\n",
      "726750.0\n",
      "579625.0\n",
      "182750.0\n"
     ]
    }
   ],
   "source": [
    "# CHANGES MADE TO THIS CELL\n",
    "\n",
    "# Print average yearly savings associated with each threshold, based on an assumed $500 per test\n",
    "for i in thresh:\n",
    "    p = [1 if p >= i else 0 for p in y_score]\n",
    "    print ((metrics.confusion_matrix(y, p)[0,0] + metrics.confusion_matrix(y, p)[1,0])*500/4)"
   ]
  },
  {
   "cell_type": "code",
   "execution_count": 41,
   "metadata": {
    "collapsed": false,
    "jupyter": {
     "outputs_hidden": false
    }
   },
   "outputs": [
    {
     "data": {
      "text/plain": [
       "Text(0.5, 1.0, 'Average Yearly Savings at Various Thresholds')"
      ]
     },
     "execution_count": 41,
     "metadata": {},
     "output_type": "execute_result"
    },
    {
     "data": {
      "image/png": "[encoded data removed]",
      "text/plain": [
       "<Figure size 640x480 with 1 Axes>"
      ]
     },
     "metadata": {},
     "output_type": "display_data"
    }
   ],
   "source": [
    "# Graphing savings at each TPR rate\n",
    "recall = [.8, .85, .9, .95, 1]\n",
    "savings = [944500, 864250, 773625, 660250, 183000]\n",
    "plt.plot(recall, savings)\n",
    "plt.title(\"Average Yearly Savings at Various Thresholds\")"
   ]
  },
  {
   "cell_type": "markdown",
   "metadata": {},
   "source": [
    "### Kaggle Submission"
   ]
  },
  {
   "cell_type": "code",
   "execution_count": 42,
   "metadata": {
    "collapsed": false,
    "jupyter": {
     "outputs_hidden": false
    }
   },
   "outputs": [],
   "source": [
    "X = train_w.drop('Date Trap Species CodeSum NumMosquitos WnvPresent zip_code VCTS FG'.split(' '), axis=1)\n",
    "y = train_w.WnvPresent\n",
    "X_testset = test_w.drop('Date Trap Species CodeSum zip_code Id BCFG FG+'.split(' '), axis=1)\n",
    "xgb.fit(X, y)\n",
    "FINAL = xgb.predict_proba(X_testset)[:,1]"
   ]
  },
  {
   "cell_type": "code",
   "execution_count": 43,
   "metadata": {},
   "outputs": [],
   "source": [
    "sample = pd.read_csv('assets/sampleSubmission.csv', index_col='Id')"
   ]
  },
  {
   "cell_type": "code",
   "execution_count": 44,
   "metadata": {
    "collapsed": false,
    "jupyter": {
     "outputs_hidden": false
    }
   },
   "outputs": [],
   "source": [
    "sample.WnvPresent = FINAL"
   ]
  },
  {
   "cell_type": "code",
   "execution_count": 45,
   "metadata": {
    "collapsed": false,
    "jupyter": {
     "outputs_hidden": false
    }
   },
   "outputs": [],
   "source": [
    "sample.to_csv('assets/testSubmission.csv')"
   ]
  }
 ],
 "metadata": {
  "anaconda-cloud": {},
  "kernelspec": {
   "display_name": "jupyter venv",
   "language": "python",
   "name": "myenv"
  },
  "language_info": {
   "codemirror_mode": {
    "name": "ipython",
    "version": 3
   },
   "file_extension": ".py",
   "mimetype": "text/x-python",
   "name": "python",
   "nbconvert_exporter": "python",
   "pygments_lexer": "ipython3",
   "version": "3.11.5"
  }
 },
 "nbformat": 4,
 "nbformat_minor": 4
}
